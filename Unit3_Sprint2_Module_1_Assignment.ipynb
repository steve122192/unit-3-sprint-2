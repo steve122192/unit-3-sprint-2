{
 "cells": [
  {
   "cell_type": "markdown",
   "metadata": {},
   "source": [
    "How many total Characters are there?\n",
    "How many of each specific subclass?\n",
    "How many total Items?\n",
    "How many of the Items are weapons? How many are not?\n",
    "How many Items does each character have? (Return first 20 rows)\n",
    "How many Weapons does each character have? (Return first 20 rows)\n",
    "On average, how many Items does each Character have?\n",
    "On average, how many Weapons does each character have?"
   ]
  },
  {
   "cell_type": "code",
   "execution_count": null,
   "metadata": {},
   "outputs": [],
   "source": [
    "# How many total Characters are there?\n",
    "select \n",
    "\tcount(distinct character_id)\n",
    "from charactercreator_character"
   ]
  },
  {
   "cell_type": "code",
   "execution_count": null,
   "metadata": {},
   "outputs": [],
   "source": [
    "# How many of each specific subclass?\n",
    "SELECT\n",
    "    COUNT(DISTINCT charactercreator_mage.character_ptr_id) AS MageCount,\n",
    "    COUNT(DISTINCT charactercreator_thief.character_ptr_id) AS ThiefCount,\n",
    "    COUNT(DISTINCT charactercreator_cleric.character_ptr_id) AS ClericCount,\n",
    "    COUNT(DISTINCT charactercreator_fighter.character_ptr_id) AS FighterCount\n",
    "FROM\n",
    "    charactercreator_mage,\n",
    "    charactercreator_thief,\n",
    "    charactercreator_cleric,\n",
    "    charactercreator_fighter"
   ]
  },
  {
   "cell_type": "code",
   "execution_count": null,
   "metadata": {},
   "outputs": [],
   "source": [
    "# How many total Items?"
   ]
  }
 ],
 "metadata": {
  "kernelspec": {
   "display_name": "Python 3",
   "language": "python",
   "name": "python3"
  },
  "language_info": {
   "codemirror_mode": {
    "name": "ipython",
    "version": 3
   },
   "file_extension": ".py",
   "mimetype": "text/x-python",
   "name": "python",
   "nbconvert_exporter": "python",
   "pygments_lexer": "ipython3",
   "version": "3.7.6"
  }
 },
 "nbformat": 4,
 "nbformat_minor": 4
}
